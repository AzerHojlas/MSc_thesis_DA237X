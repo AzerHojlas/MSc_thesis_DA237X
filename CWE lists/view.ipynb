{
 "cells": [
  {
   "cell_type": "code",
   "execution_count": null,
   "metadata": {},
   "outputs": [],
   "source": [
    "import pandas as pd\n",
    "import os\n",
    "\n",
    "def display_csv_as_dataframe(csv_file_path):\n",
    "    \"\"\"\n",
    "    Read a CSV file and display it as a dataframe.\n",
    "    \"\"\"\n",
    "    if not os.path.isfile(csv_file_path):\n",
    "        print(f\"File {csv_file_path} does not exist.\")\n",
    "        return\n",
    "    \n",
    "    try:\n",
    "        df = pd.read_csv(csv_file_path)\n",
    "        return df\n",
    "    except Exception as e:\n",
    "        print(f\"Error occurred while reading {csv_file_path}: {e}\")\n",
    "\n",
    "def main():\n",
    "    # Specify the directory containing the CSV files\n",
    "    directory = r\"C:\\Users\\AzerHojlas\\Desktop\\examensarbete\\CWE lists\\Mappings\\Top 25\\top 25.csv\"\n",
    "\n",
    "    # Loop through all files in the directory\n",
    "    for filename in os.listdir(directory):\n",
    "        if filename.endswith(\".csv\"):\n",
    "            file_path = os.path.join(directory, filename)\n",
    "            display_csv_as_dataframe(file_path)\n"
   ]
  },
  {
   "cell_type": "code",
   "execution_count": null,
   "metadata": {},
   "outputs": [],
   "source": [
    "from IPython.display import display\n",
    "pd.set_option('display.max_rows', 1000)\n",
    "pd.set_option('display.max_columns', 1000)\n",
    "pd.set_option('display.max_colwidth', None)\n",
    "\n",
    "df = display_csv_as_dataframe(r\"C:\\Users\\AzerHojlas\\Desktop\\examensarbete\\CWE lists\\Mappings\\Top 25\\top 25.csv\")\n",
    "df"
   ]
  },
  {
   "cell_type": "code",
   "execution_count": null,
   "metadata": {},
   "outputs": [],
   "source": [
    "import xml.etree.ElementTree as ET\n",
    "\n",
    "# Load the XML file\n",
    "tree = ET.parse(r'C:\\Users\\AzerHojlas\\Desktop\\examensarbete\\CWE lists\\Mappings\\Top 25\\1425.xml')\n",
    "\n",
    "# Get the root element\n",
    "root = tree.getroot()\n",
    "\n",
    "# Now you can iterate over the elements of the XML tree\n",
    "# for child in root:\n",
    "#     print(child.tag, child.attrib)\n",
    "# print(ET.tostring(root[0]))\n",
    "\n",
    "\n",
    "# Or you can use XPath expressions to find specific elements\n",
    "for elem in root[0].findall('.//weak'):\n",
    "    print(elem)"
   ]
  },
  {
   "cell_type": "code",
   "execution_count": null,
   "metadata": {},
   "outputs": [],
   "source": [
    "# Loop iteration\n",
    "\n",
    "import xml.etree.ElementTree as ET\n",
    "\n",
    "tree = ET.parse(r'C:\\Users\\AzerHojlas\\Desktop\\examensarbete\\CWE lists\\Mappings\\Top 25\\1425.xml')\n",
    "\n",
    "element_name = \"{http://cwe.mitre.org/cwe-7}Weakness\" \n",
    "for elem in tree.iter():\n",
    "    if element_name == elem.tag:\n",
    "        for weakness in elem:\n",
    "            if \"Applicable_Platforms\" in weakness.tag:\n",
    "                for target in weakness:\n",
    "                    type = target.tag.split('}')[-1]\n",
    "                    type_name_list = list(target.attrib.values()) \n",
    "                    if \"Database\" in type_name_list[0]:\n",
    "                        print(f\"CWE: {elem.attrib['ID']}\", type, type_name_list[0])\n",
    "\n",
    "\n",
    " \n"
   ]
  },
  {
   "cell_type": "code",
   "execution_count": null,
   "metadata": {},
   "outputs": [],
   "source": [
    "# Find function\n",
    "\n",
    "import xml.etree.ElementTree as ET\n",
    "\n",
    "tree = ET.parse(r'C:\\Users\\AzerHojlas\\Desktop\\examensarbete\\CWE lists\\Mappings\\Top 25\\1425.xml')\n",
    "\n",
    "asset = 'Database'\n",
    "\n",
    "for elem in tree.iterfind(\".//{http://cwe.mitre.org/cwe-7}Weakness\"):\n",
    "    for target_type in elem.find(\"{http://cwe.mitre.org/cwe-7}Applicable_Platforms\"):\n",
    "        target = list(target_type.attrib.values())[0]\n",
    "        if asset in target:\n",
    "            print(f\"CWE: {elem.attrib['ID']} --- Name: {elem.attrib['Name']} --- Description: {elem.find(\"{http://cwe.mitre.org/cwe-7}Description\").text} --- Asset type: {target} --- Target type:\", target_type.tag.split('}')[-1], elem.find(\"{http://cwe.mitre.org/cwe-7}Alternate_Term\"))\n"
   ]
  }
 ],
 "metadata": {
  "kernelspec": {
   "display_name": "Python 3",
   "language": "python",
   "name": "python3"
  },
  "language_info": {
   "codemirror_mode": {
    "name": "ipython",
    "version": 3
   },
   "file_extension": ".py",
   "mimetype": "text/x-python",
   "name": "python",
   "nbconvert_exporter": "python",
   "pygments_lexer": "ipython3",
   "version": "3.12.3"
  }
 },
 "nbformat": 4,
 "nbformat_minor": 2
}
